{
 "cells": [
  {
   "cell_type": "code",
   "execution_count": 1,
   "id": "occupational-rally",
   "metadata": {},
   "outputs": [],
   "source": [
    "from Task2 import whatjob\n",
    "#initialization\n",
    "whatJobClass=whatjob()"
   ]
  },
  {
   "cell_type": "code",
   "execution_count": 2,
   "id": "commercial-herald",
   "metadata": {},
   "outputs": [],
   "source": [
    "#getData\n",
    "train_df,valid_df,test_df=whatJobClass.getData()   "
   ]
  },
  {
   "cell_type": "code",
   "execution_count": null,
   "id": "earned-sweet",
   "metadata": {},
   "outputs": [
    {
     "name": "stdout",
     "output_type": "stream",
     "text": [
      "      Iter       Train Loss   Remaining Time \n",
      "         1           1.5768           12.19m\n",
      "         2           1.3456           12.07m\n",
      "         3           1.1877           12.00m\n",
      "         4           1.0688           11.95m\n",
      "         5           0.9724           11.89m\n",
      "         6           0.8932           11.82m\n",
      "         7           0.8268           11.75m\n",
      "         8           0.7692           11.69m\n",
      "         9           0.7180           11.63m\n",
      "        10           0.6727           11.57m\n",
      "        20           0.4327           10.97m\n",
      "        30           0.3366           10.38m\n",
      "        40           0.2842            9.85m\n",
      "        50           0.2489            9.26m\n",
      "        60           0.2221            8.65m\n",
      "        70           0.2026            8.02m\n",
      "        80           0.1875            7.39m\n",
      "        90           0.1750            6.77m\n",
      "       100           0.1655            6.15m\n"
     ]
    }
   ],
   "source": [
    "#batchTraining\n",
    "train_df_clean=whatJobClass.cleanText(train_df,train_flag=True)\n",
    "clf=whatJobClass.batchTraining(train_df_clean)"
   ]
  },
  {
   "cell_type": "code",
   "execution_count": null,
   "id": "isolated-price",
   "metadata": {},
   "outputs": [],
   "source": [
    "#valBatchEval\n",
    "valid_df_clean=whatJobClass.cleanText(valid_df,train_flag=False)\n",
    "_,_=whatJobClass.valBatchEval(valid_df_clean)"
   ]
  },
  {
   "cell_type": "code",
   "execution_count": null,
   "id": "blind-peripheral",
   "metadata": {},
   "outputs": [],
   "source": [
    "#testBatch\n",
    "test_df_clean=whatJobClass.cleanText(test_df,train_flag=False)\n",
    "y_pred=whatJobClass.testBatch(test_df_clean)\n",
    "#pd.DataFrame(y_pred).to_csv(\"test_y_pred.csv\")"
   ]
  },
  {
   "cell_type": "code",
   "execution_count": null,
   "id": "opposed-scout",
   "metadata": {},
   "outputs": [],
   "source": [
    "#getPrediction\n",
    "job_title='Technical Lead (QA Automation)'\n",
    "y_pred_single=whatJobClass.getPrediction(job_title)\n",
    "print(y_pred_single)"
   ]
  },
  {
   "cell_type": "code",
   "execution_count": null,
   "id": "sound-nerve",
   "metadata": {},
   "outputs": [],
   "source": []
  }
 ],
 "metadata": {
  "kernelspec": {
   "display_name": "Python 3 (ipykernel)",
   "language": "python",
   "name": "python3"
  },
  "language_info": {
   "codemirror_mode": {
    "name": "ipython",
    "version": 3
   },
   "file_extension": ".py",
   "mimetype": "text/x-python",
   "name": "python",
   "nbconvert_exporter": "python",
   "pygments_lexer": "ipython3",
   "version": "3.9.7"
  }
 },
 "nbformat": 4,
 "nbformat_minor": 5
}
