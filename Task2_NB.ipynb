{
 "cells": [
  {
   "cell_type": "code",
   "execution_count": 1,
   "id": "occupational-rally",
   "metadata": {},
   "outputs": [],
   "source": [
    "from Task2 import whatjob\n",
    "#initialization\n",
    "whatJobClass=whatjob()"
   ]
  },
  {
   "cell_type": "code",
   "execution_count": 2,
   "id": "commercial-herald",
   "metadata": {},
   "outputs": [],
   "source": [
    "#getData\n",
    "train_df,valid_df,test_df=whatJobClass.getData()   "
   ]
  },
  {
   "cell_type": "code",
   "execution_count": null,
   "id": "earned-sweet",
   "metadata": {},
   "outputs": [
    {
     "name": "stdout",
     "output_type": "stream",
     "text": [
      "      Iter       Train Loss   Remaining Time \n",
      "         1           1.5768           12.19m\n",
      "         2           1.3456           12.07m\n",
      "         3           1.1877           12.00m\n"
     ]
    }
   ],
   "source": [
    "#batchTraining\n",
    "train_df_clean=whatJobClass.cleanText(train_df,train_flag=True)\n",
    "clf=whatJobClass.batchTraining(train_df_clean)"
   ]
  },
  {
   "cell_type": "code",
   "execution_count": null,
   "id": "isolated-price",
   "metadata": {},
   "outputs": [],
   "source": [
    "#valBatchEval\n",
    "valid_df_clean=whatJobClass.cleanText(valid_df,train_flag=False)\n",
    "_,_=whatJobClass.valBatchEval(valid_df_clean)"
   ]
  },
  {
   "cell_type": "code",
   "execution_count": null,
   "id": "blind-peripheral",
   "metadata": {},
   "outputs": [],
   "source": [
    "#testBatch\n",
    "test_df_clean=whatJobClass.cleanText(test_df,train_flag=False)\n",
    "y_pred=whatJobClass.testBatch(test_df_clean)\n",
    "#pd.DataFrame(y_pred).to_csv(\"test_y_pred.csv\")"
   ]
  },
  {
   "cell_type": "code",
   "execution_count": null,
   "id": "opposed-scout",
   "metadata": {},
   "outputs": [],
   "source": [
    "#getPrediction\n",
    "job_title='Technical Lead (QA Automation)'\n",
    "y_pred_single=whatJobClass.getPrediction(job_title)\n",
    "print(y_pred_single)"
   ]
  },
  {
   "cell_type": "code",
   "execution_count": null,
   "id": "sound-nerve",
   "metadata": {},
   "outputs": [],
   "source": []
  }
 ],
 "metadata": {
  "kernelspec": {
   "display_name": "Python 3 (ipykernel)",
   "language": "python",
   "name": "python3"
  },
  "language_info": {
   "codemirror_mode": {
    "name": "ipython",
    "version": 3
   },
   "file_extension": ".py",
   "mimetype": "text/x-python",
   "name": "python",
   "nbconvert_exporter": "python",
   "pygments_lexer": "ipython3",
   "version": "3.9.7"
  }
 },
 "nbformat": 4,
 "nbformat_minor": 5
}
